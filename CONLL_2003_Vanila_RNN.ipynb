{
  "nbformat": 4,
  "nbformat_minor": 0,
  "metadata": {
    "colab": {
      "name": "CONLL_2003.ipynb",
      "provenance": [],
      "toc_visible": true,
      "include_colab_link": true
    },
    "kernelspec": {
      "name": "python3",
      "display_name": "Python 3"
    },
    "accelerator": "GPU"
  },
  "cells": [
    {
      "cell_type": "markdown",
      "metadata": {
        "id": "view-in-github",
        "colab_type": "text"
      },
      "source": [
        "<a href=\"https://colab.research.google.com/github/analystanand/Named_Entity_Recognition/blob/master/CONLL_2003_Vanila_RNN.ipynb\" target=\"_parent\"><img src=\"https://colab.research.google.com/assets/colab-badge.svg\" alt=\"Open In Colab\"/></a>"
      ]
    },
    {
      "cell_type": "code",
      "metadata": {
        "id": "il6cfxX7oJ4x",
        "colab_type": "code",
        "colab": {}
      },
      "source": [
        "import numpy as np\n",
        "import torch\n",
        "from tqdm import tqdm\n",
        "import torch.nn as nn\n",
        "import torch.nn.functional as F\n",
        "from sklearn.metrics import classification_report\n",
        "device = torch.device(\"cuda\" if torch.cuda.is_available() else \"cpu\")"
      ],
      "execution_count": 0,
      "outputs": []
    },
    {
      "cell_type": "code",
      "metadata": {
        "id": "1Y2uJmvn5PfC",
        "colab_type": "code",
        "colab": {}
      },
      "source": [
        "def readfile(filename):\n",
        "  \"get list of lines and tags\"\n",
        "  sentences,tags =[],[]\n",
        "  with open(filename,\"r\") as file:\n",
        "    temp_sent,temp_tag =[],[]\n",
        "    for i in file.readlines():\n",
        "      line = i.split() \n",
        "      if line:\n",
        "          temp_sent.append(line[0])\n",
        "          temp_tag.append(line[3])\n",
        "      else:\n",
        "          sentences.append(temp_sent)\n",
        "          tags.append(temp_tag)\n",
        "          temp_sent,temp_tag =[],[]\n",
        "  return sentences,tags"
      ],
      "execution_count": 0,
      "outputs": []
    },
    {
      "cell_type": "code",
      "metadata": {
        "id": "yrkIaniLB0SP",
        "colab_type": "code",
        "colab": {}
      },
      "source": [
        "def filter_sentences(lines,labels):\n",
        "    modified_lines,modified_tags =[],[]\n",
        "    for i,j in zip(lines,labels):\n",
        "      if i[0]==\"-DOCSTART-\":\n",
        "        continue\n",
        "      l = [k.lower() for k in i]\n",
        "      modified_lines.append(l)\n",
        "      modified_tags.append(j)\n",
        "    return modified_lines,modified_tags"
      ],
      "execution_count": 0,
      "outputs": []
    },
    {
      "cell_type": "code",
      "metadata": {
        "id": "ccHnbjAXGi9P",
        "colab_type": "code",
        "colab": {}
      },
      "source": [
        "def check_tags_length(lines,labels):\n",
        "  for (i,j) in zip(lines,labels):\n",
        "     assert len(i)==len(j)"
      ],
      "execution_count": 0,
      "outputs": []
    },
    {
      "cell_type": "code",
      "metadata": {
        "id": "hTXcwkrk-RRw",
        "colab_type": "code",
        "colab": {}
      },
      "source": [
        "train,train_label = readfile(\"/content/eng.train\")\n",
        "train,train_label = filter_sentences(train,train_label)\n",
        "check_tags_length(train,train_label)\n",
        "valid,valid_label = readfile(\"/content/eng.testa\")\n",
        "valid,valid_label = filter_sentences(valid,valid_label)\n",
        "check_tags_length(valid,valid_label)\n",
        "test,test_label = readfile(\"/content/eng.testb\")\n",
        "test,test_label = filter_sentences(test,test_label)\n",
        "check_tags_length(test,test_label)"
      ],
      "execution_count": 0,
      "outputs": []
    },
    {
      "cell_type": "code",
      "metadata": {
        "id": "ecDpExsSFScF",
        "colab_type": "code",
        "outputId": "e72a457e-b11f-4529-ff99-6c371ce8d5e4",
        "colab": {
          "base_uri": "https://localhost:8080/",
          "height": 66
        }
      },
      "source": [
        "print(\"Length of Training Sentences:\",len(train))\n",
        "print(\"Length of Valid Sentences:\",len(valid))\n",
        "print(\"Length of Test Sentences:\",len(test))"
      ],
      "execution_count": 101,
      "outputs": [
        {
          "output_type": "stream",
          "text": [
            "Length of Training Sentences: 14041\n",
            "Length of Valid Sentences: 3250\n",
            "Length of Test Sentences: 3453\n"
          ],
          "name": "stdout"
        }
      ]
    },
    {
      "cell_type": "code",
      "metadata": {
        "id": "2B8NB4NzGBdE",
        "colab_type": "code",
        "outputId": "eb5f502e-f88e-4191-cefc-5655349b7a9c",
        "colab": {
          "base_uri": "https://localhost:8080/",
          "height": 66
        }
      },
      "source": [
        "print(\"sample training:\",train[0],train_label[0])\n",
        "print(\"sample validation:\",valid[0],valid_label[0])\n",
        "print(\"sample testing:\",test[0],test_label[0])\n",
        "\n"
      ],
      "execution_count": 102,
      "outputs": [
        {
          "output_type": "stream",
          "text": [
            "sample training: ['eu', 'rejects', 'german', 'call', 'to', 'boycott', 'british', 'lamb', '.'] ['I-ORG', 'O', 'I-MISC', 'O', 'O', 'O', 'I-MISC', 'O', 'O']\n",
            "sample validation: ['cricket', '-', 'leicestershire', 'take', 'over', 'at', 'top', 'after', 'innings', 'victory', '.'] ['O', 'O', 'I-ORG', 'O', 'O', 'O', 'O', 'O', 'O', 'O', 'O']\n",
            "sample testing: ['soccer', '-', 'japan', 'get', 'lucky', 'win', ',', 'china', 'in', 'surprise', 'defeat', '.'] ['O', 'O', 'I-LOC', 'O', 'O', 'O', 'O', 'I-PER', 'O', 'O', 'O', 'O']\n"
          ],
          "name": "stdout"
        }
      ]
    },
    {
      "cell_type": "code",
      "metadata": {
        "id": "OR3hFfLdHgxF",
        "colab_type": "code",
        "colab": {}
      },
      "source": [
        "def word_stats():\n",
        "      wordfreq = {}\n",
        "      word2index = {}\n",
        "      index2word = {}\n",
        "      vocab_length = 1\n",
        "\n",
        "      for sent in train:\n",
        "          for word in sent:\n",
        "                if word in wordfreq.keys():\n",
        "                    wordfreq[word]+=1\n",
        "                else:\n",
        "                    wordfreq[word]=1\n",
        "                    vocab_length+=1  \n",
        "      sorted_word_count = sorted(wordfreq.items(),key=lambda wordfreq:wordfreq[1],reverse=True)\n",
        "      print(\"Vocabulary Length\",vocab_length)\n",
        "\n",
        "      filtered_vocab = 1\n",
        "      word2index[\"UNK\"]=1\n",
        "\n",
        "      for (word,count) in sorted_word_count:\n",
        "          if count > 1:\n",
        "             filtered_vocab +=1\n",
        "             word2index[word]=filtered_vocab\n",
        "      print(\"Filtered Vocabulary\",filtered_vocab)\n",
        "\n",
        "      index2word = {v:k for k,v in word2index.items()}\n",
        "      \n",
        "      return word2index,index2word,vocab_length\n",
        "      \n",
        "      "
      ],
      "execution_count": 0,
      "outputs": []
    },
    {
      "cell_type": "code",
      "metadata": {
        "id": "rBD6R-ABks6p",
        "colab_type": "code",
        "colab": {}
      },
      "source": [
        "def label_stats():\n",
        "     label2index = {}\n",
        "     index2label ={}\n",
        "     labels_set = {k  for i in train_label for k in i }\n",
        "     for index,label in enumerate(labels_set):\n",
        "       label2index[label]=index\n",
        "       index2label[index]=label\n",
        "     n_labels = len(labels_set)\n",
        "     print(\"No. of labels\",n_labels)\n",
        "     return label2index,index2label,n_labels\n",
        "\n",
        "     "
      ],
      "execution_count": 0,
      "outputs": []
    },
    {
      "cell_type": "code",
      "metadata": {
        "id": "DOZ_4clBcxGC",
        "colab_type": "code",
        "outputId": "dbf80d48-a3b8-4574-f818-b6a093b21314",
        "colab": {
          "base_uri": "https://localhost:8080/",
          "height": 49
        }
      },
      "source": [
        "word2index,index2word,vocab_length = word_stats()"
      ],
      "execution_count": 105,
      "outputs": [
        {
          "output_type": "stream",
          "text": [
            "Vocabulary Length 21010\n",
            "Filtered Vocabulary 10950\n"
          ],
          "name": "stdout"
        }
      ]
    },
    {
      "cell_type": "code",
      "metadata": {
        "id": "7VISEISZegYe",
        "colab_type": "code",
        "outputId": "b66a9bc3-e460-4dad-ecbd-11d4dae2256a",
        "colab": {
          "base_uri": "https://localhost:8080/",
          "height": 33
        }
      },
      "source": [
        "label2index,index2label,n_labels = label_stats()"
      ],
      "execution_count": 106,
      "outputs": [
        {
          "output_type": "stream",
          "text": [
            "No. of labels 8\n"
          ],
          "name": "stdout"
        }
      ]
    },
    {
      "cell_type": "code",
      "metadata": {
        "id": "WSrZ24HVeubr",
        "colab_type": "code",
        "colab": {}
      },
      "source": [
        "def tensorfromlist(list_of_items,item2index):\n",
        "    indexes = [item2index[k] if k in item2index.keys()  else item2index[\"UNK\"] for k in list_of_items]\n",
        "    return torch.tensor(indexes, dtype=torch.long)\n",
        "def listfromindexes(list_of_indexes,index2item):\n",
        "    tags = [index2item[k] for k in list_of_indexes]\n",
        "    return tags"
      ],
      "execution_count": 0,
      "outputs": []
    },
    {
      "cell_type": "code",
      "metadata": {
        "id": "zfuHg9GWNnwM",
        "colab_type": "code",
        "colab": {
          "base_uri": "https://localhost:8080/",
          "height": 33
        },
        "outputId": "396f2891-ec76-45e7-8197-796474ad4c3a"
      },
      "source": [
        "listfromindexes(tensorfromlist(train_label[1],label2index).numpy().tolist(),index2label)"
      ],
      "execution_count": 108,
      "outputs": [
        {
          "output_type": "execute_result",
          "data": {
            "text/plain": [
              "['I-PER', 'I-PER']"
            ]
          },
          "metadata": {
            "tags": []
          },
          "execution_count": 108
        }
      ]
    },
    {
      "cell_type": "code",
      "metadata": {
        "id": "ZeAVRVNux1Fc",
        "colab_type": "code",
        "colab": {}
      },
      "source": [
        "class RNN(nn.Module):\n",
        "     def __init__(self,vocab_length,hidden_size,output_size):\n",
        "       super(RNN, self).__init__()\n",
        "       self.hidden_size= hidden_size\n",
        "       self.embedding =  nn.Embedding(vocab_length,hidden_size)\n",
        "       self.rnn = nn.RNN(hidden_size,hidden_size)\n",
        "       self.out = nn.Linear(hidden_size, output_size)\n",
        "       self.softmax = nn.LogSoftmax(dim=1)\n",
        "     def forward(self,input,hidden):\n",
        "       embedded = self.embedding(input).view(1,1,-1)\n",
        "       output = embedded\n",
        "       output, hidden = self.rnn(output,hidden)\n",
        "       output = self.softmax(self.out(output[0]))\n",
        "       return output,hidden\n",
        "     def initHidden(self):\n",
        "        return torch.zeros(1, 1, self.hidden_size)\n",
        "         "
      ],
      "execution_count": 0,
      "outputs": []
    },
    {
      "cell_type": "code",
      "metadata": {
        "id": "Iodmoxo7Flbh",
        "colab_type": "code",
        "colab": {}
      },
      "source": [
        "criterion = nn.NLLLoss()\n",
        "\n",
        "learning_rate = 0.0005"
      ],
      "execution_count": 0,
      "outputs": []
    },
    {
      "cell_type": "code",
      "metadata": {
        "id": "kFNztGrKx6bF",
        "colab_type": "code",
        "colab": {}
      },
      "source": [
        "def training(input_line_tensor, target_line_tensor):\n",
        "    target_line_tensor.unsqueeze_(-1)\n",
        "    hidden = rnn.initHidden()\n",
        "\n",
        "    rnn.zero_grad()\n",
        "    loss = 0\n",
        "\n",
        "    for i in range(input_line_tensor.size(0)):\n",
        "        output, hidden = rnn(input_line_tensor[i], hidden)\n",
        "        l = criterion(output, target_line_tensor[i])\n",
        "        loss += l\n",
        "\n",
        "    loss.backward()\n",
        "\n",
        "    for p in rnn.parameters():\n",
        "        p.data.add_(-learning_rate, p.grad.data)\n",
        "\n",
        "    return output, loss.item() / input_line_tensor.size(0)"
      ],
      "execution_count": 0,
      "outputs": []
    },
    {
      "cell_type": "code",
      "metadata": {
        "id": "rCoW2I7MMx4m",
        "colab_type": "code",
        "colab": {}
      },
      "source": [
        "import random\n",
        "\n",
        "# Random item from a list\n",
        "def randomChoice(l):\n",
        "    return random.randint(0, l - 1)\n",
        "\n",
        "# # Get a random category and random line from that category\n",
        "def randomTrainingPair():\n",
        "    choice = randomChoice(len(train))\n",
        "    x = tensorfromlist(train[choice],word2index)\n",
        "    y =tensorfromlist(train_label[choice],label2index)\n",
        "    return x,y,choice"
      ],
      "execution_count": 0,
      "outputs": []
    },
    {
      "cell_type": "code",
      "metadata": {
        "id": "Q4SKgTDIVNkV",
        "colab_type": "code",
        "outputId": "4bdb7356-f79f-481b-e82c-2e9337773b22",
        "colab": {
          "base_uri": "https://localhost:8080/",
          "height": 33
        }
      },
      "source": [
        "x,y,I = randomTrainingPair()\n",
        "print(x.shape,y)"
      ],
      "execution_count": 113,
      "outputs": [
        {
          "output_type": "stream",
          "text": [
            "torch.Size([20]) tensor([1, 1, 1, 1, 1, 1, 1, 1, 1, 1, 1, 1, 1, 1, 1, 1, 1, 1, 1, 1])\n"
          ],
          "name": "stdout"
        }
      ]
    },
    {
      "cell_type": "code",
      "metadata": {
        "id": "yN3vhGJBCEl3",
        "colab_type": "code",
        "outputId": "162c2c4d-f81c-41a1-b142-1e636eb14581",
        "colab": {
          "base_uri": "https://localhost:8080/",
          "height": 348
        }
      },
      "source": [
        "import math\n",
        "import time\n",
        "\n",
        "def timeSince(since):\n",
        "    now = time.time()\n",
        "    s = now - since\n",
        "    m = math.floor(s / 60)\n",
        "    s -= m * 60\n",
        "    return '%dm %ds' % (m, s)\n",
        "\n",
        "\n",
        "rnn = RNN(vocab_length, 128, n_labels)\n",
        "\n",
        "n_iters = 10000\n",
        "print_every =500\n",
        "plot_every = 5\n",
        "all_losses = []\n",
        "total_loss = 0 # Reset every plot_every iters\n",
        "\n",
        "start = time.time()\n",
        "\n",
        "for iter in range(1, n_iters + 1):\n",
        "    X,Y,index = randomTrainingPair()\n",
        "    # print(index)\n",
        "    # print(Y.shape)\n",
        "    output, loss = training(X,Y)\n",
        "    total_loss += loss\n",
        "    if iter % print_every == 0:\n",
        "        print('%s (%d %d%%) %.4f' % (timeSince(start), iter, iter / n_iters * 100, loss))\n",
        "\n",
        "    if iter % plot_every == 0:\n",
        "        all_losses.append(total_loss / plot_every)\n",
        "        total_loss = 0"
      ],
      "execution_count": 114,
      "outputs": [
        {
          "output_type": "stream",
          "text": [
            "0m 31s (500 5%) 0.8729\n",
            "1m 2s (1000 10%) 1.0543\n",
            "1m 35s (1500 15%) 0.4744\n",
            "2m 8s (2000 20%) 0.4566\n",
            "2m 38s (2500 25%) 0.7248\n",
            "3m 9s (3000 30%) 1.4735\n",
            "3m 40s (3500 35%) 0.5263\n",
            "4m 13s (4000 40%) 1.0270\n",
            "4m 43s (4500 45%) 1.1885\n",
            "5m 14s (5000 50%) 0.2700\n",
            "5m 47s (5500 55%) 1.0285\n",
            "6m 17s (6000 60%) 0.5966\n",
            "6m 49s (6500 65%) 0.3542\n",
            "7m 20s (7000 70%) 0.5062\n",
            "7m 52s (7500 75%) 0.1186\n",
            "8m 23s (8000 80%) 1.5737\n",
            "8m 54s (8500 85%) 1.0780\n",
            "9m 25s (9000 90%) 1.5253\n",
            "9m 56s (9500 95%) 0.3272\n",
            "10m 25s (10000 100%) 0.1346\n"
          ],
          "name": "stdout"
        }
      ]
    },
    {
      "cell_type": "code",
      "metadata": {
        "id": "eh2A9tLFCFYD",
        "colab_type": "code",
        "outputId": "7b881b80-d027-4fb7-ed15-660d8c30bc2a",
        "colab": {
          "base_uri": "https://localhost:8080/",
          "height": 266
        }
      },
      "source": [
        "import matplotlib.pyplot as plt\n",
        "import matplotlib.ticker as ticker\n",
        "\n",
        "plt.figure()\n",
        "plt.plot(all_losses)\n",
        "plt.show()"
      ],
      "execution_count": 115,
      "outputs": [
        {
          "output_type": "display_data",
          "data": {
            "image/png": "[encoded data removed]",
            "text/plain": [
              "<Figure size 432x288 with 1 Axes>"
            ]
          },
          "metadata": {
            "tags": []
          }
        }
      ]
    },
    {
      "cell_type": "code",
      "metadata": {
        "id": "H8FNJyP_Tt7c",
        "colab_type": "code",
        "colab": {}
      },
      "source": [
        "def evaluate(line_tensor):\n",
        "    hidden = rnn.initHidden()\n",
        "    pred_tensor =  torch.zeros([line_tensor.size()[0], n_labels])\n",
        "    for i in range(line_tensor.size()[0]):\n",
        "        output, hidden = rnn(line_tensor[i], hidden)\n",
        "        pred_tensor[i] = output \n",
        "\n",
        "    return pred_tensor"
      ],
      "execution_count": 0,
      "outputs": []
    },
    {
      "cell_type": "code",
      "metadata": {
        "id": "ghcOp1Sssc4x",
        "colab_type": "code",
        "colab": {}
      },
      "source": [
        "def predict(sample):\n",
        "    x = tensorfromlist(sample,word2index)\n",
        "    predictions_tag,prediction_index = [],torch.zeros(x.size()[0],dtype=torch.int8)\n",
        "    with torch.no_grad():\n",
        "      output_tensor = evaluate(x)      \n",
        "    for i in range(x.shape[0]):\n",
        "        category_index = output_tensor[i].max(0).indices.numpy().tolist()\n",
        "        predictions_tag.append(index2label[category_index])\n",
        "        prediction_index[i] =category_index\n",
        "    return prediction_index\n"
      ],
      "execution_count": 0,
      "outputs": []
    },
    {
      "cell_type": "code",
      "metadata": {
        "id": "WqvUKRRhDzCa",
        "colab_type": "code",
        "colab": {}
      },
      "source": [
        "target_names = []\n",
        "for i in sorted(index2label.keys()):\n",
        "     target_names.append(index2label[i])"
      ],
      "execution_count": 0,
      "outputs": []
    },
    {
      "cell_type": "code",
      "metadata": {
        "id": "NruILfhHXvuF",
        "colab_type": "code",
        "colab": {}
      },
      "source": [
        "def accuracy(X,Y):\n",
        "  correct =0\n",
        "  total = 0\n",
        "  predictions_list = []\n",
        "  true_label_list = []\n",
        "  for i,j in zip(X,Y):\n",
        "      total += len(j)\n",
        "      true_label = tensorfromlist(j,label2index)\n",
        "      temp_true_label = listfromindexes(true_label.numpy().tolist(),index2label)\n",
        "      predictions_list.extend(temp_true_label)\n",
        "      pred_label = predict(i)\n",
        "      temp_pred_label = listfromindexes(pred_label.numpy().tolist(),index2label)\n",
        "      true_label_list.extend(temp_pred_label)\n",
        "      correct += (pred_label == true_label).sum().item()\n",
        "  print('Accuracy of the network in predicting tags: %d %%' % (100 * correct / total))\n",
        "\n",
        "  return true_label_list,predictions_list"
      ],
      "execution_count": 0,
      "outputs": []
    },
    {
      "cell_type": "code",
      "metadata": {
        "id": "SP90x-iSa3Ex",
        "colab_type": "code",
        "outputId": "82e34f32-e605-4b39-8789-b5cad846ff0d",
        "colab": {
          "base_uri": "https://localhost:8080/",
          "height": 335
        }
      },
      "source": [
        "y_true,y_pred = accuracy(train,train_label)\n",
        "print(classification_report(y_true, y_pred, target_names=target_names))"
      ],
      "execution_count": 120,
      "outputs": [
        {
          "output_type": "stream",
          "text": [
            "Accuracy of the network in predicting tags: 84 %\n"
          ],
          "name": "stdout"
        },
        {
          "output_type": "stream",
          "text": [
            "/usr/local/lib/python3.6/dist-packages/sklearn/metrics/_classification.py:1272: UndefinedMetricWarning: Recall and F-score are ill-defined and being set to 0.0 in labels with no true samples. Use `zero_division` parameter to control this behavior.\n",
            "  _warn_prf(average, modifier, msg_start, len(result))\n"
          ],
          "name": "stderr"
        },
        {
          "output_type": "stream",
          "text": [
            "              precision    recall  f1-score   support\n",
            "\n",
            "      I-MISC       0.00      0.00      0.00         0\n",
            "           O       0.00      0.00      0.00         0\n",
            "       B-LOC       0.00      0.00      0.00         0\n",
            "       B-ORG       0.31      0.63      0.41      4045\n",
            "       I-PER       0.03      0.55      0.05       213\n",
            "       I-LOC       0.03      0.36      0.06       880\n",
            "      B-MISC       0.17      0.61      0.26      3023\n",
            "       I-ORG       0.99      0.86      0.92    195460\n",
            "\n",
            "    accuracy                           0.85    203621\n",
            "   macro avg       0.19      0.38      0.21    203621\n",
            "weighted avg       0.96      0.85      0.90    203621\n",
            "\n"
          ],
          "name": "stdout"
        }
      ]
    },
    {
      "cell_type": "code",
      "metadata": {
        "id": "d3IfN7zt_eyx",
        "colab_type": "code",
        "colab": {}
      },
      "source": [
        ""
      ],
      "execution_count": 0,
      "outputs": []
    },
    {
      "cell_type": "code",
      "metadata": {
        "id": "awCcduoQbn_r",
        "colab_type": "code",
        "outputId": "e36c4b72-1352-429a-b86c-22ae707987fa",
        "colab": {
          "base_uri": "https://localhost:8080/",
          "height": 335
        }
      },
      "source": [
        "y_true,y_pred = accuracy(test,test_label)\n",
        "print(classification_report(y_true, y_pred, target_names=target_names))"
      ],
      "execution_count": 121,
      "outputs": [
        {
          "output_type": "stream",
          "text": [
            "Accuracy of the network in predicting tags: 83 %\n"
          ],
          "name": "stdout"
        },
        {
          "output_type": "stream",
          "text": [
            "/usr/local/lib/python3.6/dist-packages/sklearn/metrics/_classification.py:1272: UndefinedMetricWarning: Recall and F-score are ill-defined and being set to 0.0 in labels with no true samples. Use `zero_division` parameter to control this behavior.\n",
            "  _warn_prf(average, modifier, msg_start, len(result))\n"
          ],
          "name": "stderr"
        },
        {
          "output_type": "stream",
          "text": [
            "              precision    recall  f1-score   support\n",
            "\n",
            "      I-MISC       0.00      0.00      0.00         0\n",
            "           O       0.00      0.00      0.00         0\n",
            "       B-LOC       0.00      0.00      0.00         0\n",
            "       B-ORG       0.28      0.65      0.39       813\n",
            "       I-PER       0.04      0.55      0.07        60\n",
            "       I-LOC       0.03      0.38      0.06       214\n",
            "      B-MISC       0.12      0.59      0.21       587\n",
            "       I-ORG       0.99      0.85      0.91     44761\n",
            "\n",
            "    accuracy                           0.84     46435\n",
            "   macro avg       0.18      0.38      0.20     46435\n",
            "weighted avg       0.96      0.84      0.89     46435\n",
            "\n"
          ],
          "name": "stdout"
        }
      ]
    },
    {
      "cell_type": "code",
      "metadata": {
        "id": "r6VqecUxf0AP",
        "colab_type": "code",
        "outputId": "f0e2f547-e1af-4938-d43b-9d6b409f02d5",
        "colab": {
          "base_uri": "https://localhost:8080/",
          "height": 33
        }
      },
      "source": [
        "y_true,y_pred = accuracy(valid,valid_label)\n",
        "# print(classification_report(y_true, y_pred, target_names=target_names))"
      ],
      "execution_count": 129,
      "outputs": [
        {
          "output_type": "stream",
          "text": [
            "Accuracy of the network in predicting tags: 84 %\n"
          ],
          "name": "stdout"
        }
      ]
    },
    {
      "cell_type": "code",
      "metadata": {
        "id": "dytIyafLJAmz",
        "colab_type": "code",
        "colab": {
          "base_uri": "https://localhost:8080/",
          "height": 33
        },
        "outputId": "436f42ac-9502-4dc4-ee6b-412c9df4a26d"
      },
      "source": [
        "valid_label_set"
      ],
      "execution_count": 127,
      "outputs": [
        {
          "output_type": "execute_result",
          "data": {
            "text/plain": [
              "{'B-MISC', 'I-LOC', 'I-MISC', 'I-ORG', 'I-PER', 'O'}"
            ]
          },
          "metadata": {
            "tags": []
          },
          "execution_count": 127
        }
      ]
    },
    {
      "cell_type": "code",
      "metadata": {
        "id": "AmV1Sh1VJFTL",
        "colab_type": "code",
        "colab": {}
      },
      "source": [
        ""
      ],
      "execution_count": 0,
      "outputs": []
    }
  ]
}