{
  "nbformat": 4,
  "nbformat_minor": 0,
  "metadata": {
    "colab": {
      "name": "CONLL_2003_GRU_RNN.ipynb",
      "provenance": [],
      "toc_visible": true,
      "include_colab_link": true
    },
    "kernelspec": {
      "name": "python3",
      "display_name": "Python 3"
    },
    "accelerator": "GPU"
  },
  "cells": [
    {
      "cell_type": "markdown",
      "metadata": {
        "id": "view-in-github",
        "colab_type": "text"
      },
      "source": [
        "<a href=\"https://colab.research.google.com/github/analystanand/Named_Entity_Recognition/blob/master/CONLL_2003_GRU_RNN.ipynb\" target=\"_parent\"><img src=\"https://colab.research.google.com/assets/colab-badge.svg\" alt=\"Open In Colab\"/></a>"
      ]
    },
    {
      "cell_type": "code",
      "metadata": {
        "id": "il6cfxX7oJ4x",
        "colab_type": "code",
        "colab": {}
      },
      "source": [
        "import numpy as np\n",
        "import torch\n",
        "from tqdm import tqdm\n",
        "import torch.nn as nn\n",
        "import torch.nn.functional as F\n",
        "device = torch.device(\"cuda\" if torch.cuda.is_available() else \"cpu\")"
      ],
      "execution_count": 0,
      "outputs": []
    },
    {
      "cell_type": "code",
      "metadata": {
        "id": "1Y2uJmvn5PfC",
        "colab_type": "code",
        "colab": {}
      },
      "source": [
        "def readfile(filename):\n",
        "  \"get list of lines and tags\"\n",
        "  sentences,tags =[],[]\n",
        "  with open(filename,\"r\") as file:\n",
        "    temp_sent,temp_tag =[],[]\n",
        "    for i in file.readlines():\n",
        "      line = i.split() \n",
        "      if line:\n",
        "          temp_sent.append(line[0])\n",
        "          temp_tag.append(line[2])\n",
        "      else:\n",
        "          sentences.append(temp_sent)\n",
        "          tags.append(temp_tag)\n",
        "          temp_sent,temp_tag =[],[]\n",
        "  return sentences,tags"
      ],
      "execution_count": 0,
      "outputs": []
    },
    {
      "cell_type": "code",
      "metadata": {
        "id": "yrkIaniLB0SP",
        "colab_type": "code",
        "colab": {}
      },
      "source": [
        "def filter_sentences(lines,labels):\n",
        "    modified_lines,modified_tags =[],[]\n",
        "    for i,j in zip(lines,labels):\n",
        "      if i[0]==\"-DOCSTART-\":\n",
        "        continue\n",
        "      l = [k.lower() for k in i]\n",
        "      modified_lines.append(l)\n",
        "      modified_tags.append(j)\n",
        "    return modified_lines,modified_tags"
      ],
      "execution_count": 0,
      "outputs": []
    },
    {
      "cell_type": "code",
      "metadata": {
        "id": "ccHnbjAXGi9P",
        "colab_type": "code",
        "colab": {}
      },
      "source": [
        "def check_tags_length(lines,labels):\n",
        "  for (i,j) in zip(lines,labels):\n",
        "     assert len(i)==len(j)"
      ],
      "execution_count": 0,
      "outputs": []
    },
    {
      "cell_type": "code",
      "metadata": {
        "id": "hTXcwkrk-RRw",
        "colab_type": "code",
        "colab": {}
      },
      "source": [
        "train,train_label = readfile(\"/content/eng.train\")\n",
        "train,train_label = filter_sentences(train,train_label)\n",
        "check_tags_length(train,train_label)\n",
        "valid,valid_label = readfile(\"/content/eng.testa\")\n",
        "valid,valid_label = filter_sentences(valid,valid_label)\n",
        "check_tags_length(valid,valid_label)\n",
        "test,test_label = readfile(\"/content/eng.testb\")\n",
        "test,test_label = filter_sentences(test,test_label)\n",
        "check_tags_length(test,test_label)"
      ],
      "execution_count": 0,
      "outputs": []
    },
    {
      "cell_type": "code",
      "metadata": {
        "id": "ecDpExsSFScF",
        "colab_type": "code",
        "outputId": "671a683d-51df-455e-c5c7-69bf18fd38af",
        "colab": {
          "base_uri": "https://localhost:8080/",
          "height": 66
        }
      },
      "source": [
        "print(\"Length of Training Sentences:\",len(train))\n",
        "print(\"Length of Valid Sentences:\",len(valid))\n",
        "print(\"Length of Test Sentences:\",len(test))"
      ],
      "execution_count": 196,
      "outputs": [
        {
          "output_type": "stream",
          "text": [
            "Length of Training Sentences: 14041\n",
            "Length of Valid Sentences: 3250\n",
            "Length of Test Sentences: 3453\n"
          ],
          "name": "stdout"
        }
      ]
    },
    {
      "cell_type": "code",
      "metadata": {
        "id": "2B8NB4NzGBdE",
        "colab_type": "code",
        "outputId": "6d85f1a2-ed56-460f-b5ab-21a51ab9a585",
        "colab": {
          "base_uri": "https://localhost:8080/",
          "height": 66
        }
      },
      "source": [
        "print(\"sample training:\",train[0],train_label[0])\n",
        "print(\"sample validation:\",valid[0],valid_label[0])\n",
        "print(\"sample testing:\",test[0],test_label[0])\n",
        "\n"
      ],
      "execution_count": 197,
      "outputs": [
        {
          "output_type": "stream",
          "text": [
            "sample training: ['eu', 'rejects', 'german', 'call', 'to', 'boycott', 'british', 'lamb', '.'] ['I-NP', 'I-VP', 'I-NP', 'I-NP', 'I-VP', 'I-VP', 'I-NP', 'I-NP', 'O']\n",
            "sample validation: ['cricket', '-', 'leicestershire', 'take', 'over', 'at', 'top', 'after', 'innings', 'victory', '.'] ['I-NP', 'O', 'I-NP', 'I-NP', 'I-PP', 'I-NP', 'I-NP', 'I-NP', 'I-NP', 'I-NP', 'O']\n",
            "sample testing: ['soccer', '-', 'japan', 'get', 'lucky', 'win', ',', 'china', 'in', 'surprise', 'defeat', '.'] ['I-NP', 'O', 'I-NP', 'I-VP', 'I-NP', 'I-NP', 'O', 'I-NP', 'I-PP', 'I-NP', 'I-NP', 'O']\n"
          ],
          "name": "stdout"
        }
      ]
    },
    {
      "cell_type": "code",
      "metadata": {
        "id": "OR3hFfLdHgxF",
        "colab_type": "code",
        "colab": {}
      },
      "source": [
        "def word_stats():\n",
        "      wordfreq = {}\n",
        "      word2index = {}\n",
        "      index2word = {}\n",
        "      vocab_length = 1\n",
        "\n",
        "      for sent in train:\n",
        "          for word in sent:\n",
        "                if word in wordfreq.keys():\n",
        "                    wordfreq[word]+=1\n",
        "                else:\n",
        "                    wordfreq[word]=1\n",
        "                    vocab_length+=1  \n",
        "      sorted_word_count = sorted(wordfreq.items(),key=lambda wordfreq:wordfreq[1],reverse=True)\n",
        "      print(\"Vocabulary Length\",vocab_length)\n",
        "\n",
        "      filtered_vocab = 1\n",
        "      word2index[\"UNK\"]=1\n",
        "\n",
        "      for (word,count) in sorted_word_count:\n",
        "          if count > 1:\n",
        "             filtered_vocab +=1\n",
        "             word2index[word]=filtered_vocab\n",
        "      print(\"Filtered Vocabulary\",filtered_vocab)\n",
        "\n",
        "      index2word = {v:k for k,v in word2index.items()}\n",
        "      \n",
        "      return word2index,index2word,vocab_length\n",
        "      \n",
        "      "
      ],
      "execution_count": 0,
      "outputs": []
    },
    {
      "cell_type": "code",
      "metadata": {
        "id": "rBD6R-ABks6p",
        "colab_type": "code",
        "colab": {}
      },
      "source": [
        "def label_stats():\n",
        "     label2index = {}\n",
        "     index2label ={}\n",
        "     labels_set = {k  for i in train_label for k in i }\n",
        "     for index,label in enumerate(labels_set):\n",
        "       label2index[label]=index\n",
        "       index2label[index]=label\n",
        "     n_labels = len(labels_set)\n",
        "     print(\"No. of labels\",n_labels)\n",
        "     return label2index,index2label,n_labels\n",
        "\n",
        "     "
      ],
      "execution_count": 0,
      "outputs": []
    },
    {
      "cell_type": "code",
      "metadata": {
        "id": "DOZ_4clBcxGC",
        "colab_type": "code",
        "outputId": "f36ed08d-bd3f-47c9-c51f-75d59c30c5cb",
        "colab": {
          "base_uri": "https://localhost:8080/",
          "height": 49
        }
      },
      "source": [
        "word2index,index2word,vocab_length = word_stats()"
      ],
      "execution_count": 200,
      "outputs": [
        {
          "output_type": "stream",
          "text": [
            "Vocabulary Length 21010\n",
            "Filtered Vocabulary 10950\n"
          ],
          "name": "stdout"
        }
      ]
    },
    {
      "cell_type": "code",
      "metadata": {
        "id": "7VISEISZegYe",
        "colab_type": "code",
        "outputId": "3521015b-32b8-4cfe-dc96-67ca1017061a",
        "colab": {
          "base_uri": "https://localhost:8080/",
          "height": 33
        }
      },
      "source": [
        "label2index,index2label,n_labels = label_stats()"
      ],
      "execution_count": 201,
      "outputs": [
        {
          "output_type": "stream",
          "text": [
            "No. of labels 17\n"
          ],
          "name": "stdout"
        }
      ]
    },
    {
      "cell_type": "code",
      "metadata": {
        "id": "WSrZ24HVeubr",
        "colab_type": "code",
        "colab": {}
      },
      "source": [
        "def tensorfromlist(list_of_items,item2index):\n",
        "    indexes = [item2index[k] if k in item2index.keys()  else item2index[\"UNK\"] for k in list_of_items]\n",
        "    return torch.tensor(indexes, dtype=torch.long)\n",
        "    "
      ],
      "execution_count": 0,
      "outputs": []
    },
    {
      "cell_type": "code",
      "metadata": {
        "id": "zfuHg9GWNnwM",
        "colab_type": "code",
        "colab": {}
      },
      "source": [
        "# train_indexes = list(map(lambda x:tensorfromlist(x,word2index),train))\n",
        "# train_label_indexes = list(map(lambda x:tensorfromlist(x,label2index),train_label))\n",
        "\n",
        "# for i,k in zip(train_indexes,train_label_indexes):\n",
        "#    for p in k.numpy():\n",
        "#       print(type(p))"
      ],
      "execution_count": 0,
      "outputs": []
    },
    {
      "cell_type": "code",
      "metadata": {
        "id": "ZeAVRVNux1Fc",
        "colab_type": "code",
        "colab": {}
      },
      "source": [
        "class RNN(nn.Module):\n",
        "     def __init__(self,vocab_length,hidden_size,output_size):\n",
        "       super(RNN, self).__init__()\n",
        "       self.hidden_size= hidden_size\n",
        "       self.embedding =  nn.Embedding(vocab_length,hidden_size)\n",
        "       self.gru = nn.GRU(hidden_size,hidden_size)\n",
        "       self.out = nn.Linear(hidden_size, output_size)\n",
        "       self.softmax = nn.LogSoftmax(dim=1)\n",
        "     def forward(self,input,hidden):\n",
        "       embedded = self.embedding(input).view(1,1,-1)\n",
        "       output = embedded\n",
        "       output, hidden = self.gru(output,hidden)\n",
        "       output = self.softmax(self.out(output[0]))\n",
        "       return output,hidden\n",
        "     def initHidden(self):\n",
        "        return torch.zeros(1, 1, self.hidden_size)\n",
        "         "
      ],
      "execution_count": 0,
      "outputs": []
    },
    {
      "cell_type": "code",
      "metadata": {
        "id": "Iodmoxo7Flbh",
        "colab_type": "code",
        "colab": {}
      },
      "source": [
        "criterion = nn.NLLLoss()\n",
        "\n",
        "learning_rate = 0.0005"
      ],
      "execution_count": 0,
      "outputs": []
    },
    {
      "cell_type": "code",
      "metadata": {
        "id": "kFNztGrKx6bF",
        "colab_type": "code",
        "colab": {}
      },
      "source": [
        "def training(input_line_tensor, target_line_tensor):\n",
        "    target_line_tensor.unsqueeze_(-1)\n",
        "    hidden = rnn.initHidden()\n",
        "\n",
        "    rnn.zero_grad()\n",
        "    loss = 0\n",
        "\n",
        "    for i in range(input_line_tensor.size(0)):\n",
        "        output, hidden = rnn(input_line_tensor[i], hidden)\n",
        "        l = criterion(output, target_line_tensor[i])\n",
        "        loss += l\n",
        "\n",
        "    loss.backward()\n",
        "\n",
        "    for p in rnn.parameters():\n",
        "        p.data.add_(-learning_rate, p.grad.data)\n",
        "\n",
        "    return output, loss.item() / input_line_tensor.size(0)"
      ],
      "execution_count": 0,
      "outputs": []
    },
    {
      "cell_type": "code",
      "metadata": {
        "id": "rCoW2I7MMx4m",
        "colab_type": "code",
        "colab": {}
      },
      "source": [
        "import random\n",
        "\n",
        "# Random item from a list\n",
        "def randomChoice(l):\n",
        "    return random.randint(0, l - 1)\n",
        "\n",
        "# # Get a random category and random line from that category\n",
        "def randomTrainingPair():\n",
        "    choice = randomChoice(len(train))\n",
        "    x = tensorfromlist(train[choice],word2index)\n",
        "    y =tensorfromlist(train_label[choice],label2index)\n",
        "    return x,y,choice"
      ],
      "execution_count": 0,
      "outputs": []
    },
    {
      "cell_type": "code",
      "metadata": {
        "id": "Q4SKgTDIVNkV",
        "colab_type": "code",
        "outputId": "c0ad3235-d8fe-4b06-a5e4-fd8494400c13",
        "colab": {
          "base_uri": "https://localhost:8080/",
          "height": 33
        }
      },
      "source": [
        "x,y,I = randomTrainingPair()\n",
        "print(x.shape,y)"
      ],
      "execution_count": 214,
      "outputs": [
        {
          "output_type": "stream",
          "text": [
            "torch.Size([13]) tensor([12, 12, 14, 12, 14, 13, 12, 12, 14, 12, 14, 12, 12])\n"
          ],
          "name": "stdout"
        }
      ]
    },
    {
      "cell_type": "code",
      "metadata": {
        "id": "yN3vhGJBCEl3",
        "colab_type": "code",
        "outputId": "b72d26fd-8e65-427a-bdd8-705e299ac487",
        "colab": {
          "base_uri": "https://localhost:8080/",
          "height": 348
        }
      },
      "source": [
        "import math\n",
        "import time\n",
        "\n",
        "def timeSince(since):\n",
        "    now = time.time()\n",
        "    s = now - since\n",
        "    m = math.floor(s / 60)\n",
        "    s -= m * 60\n",
        "    return '%dm %ds' % (m, s)\n",
        "\n",
        "\n",
        "rnn = RNN(vocab_length, 128, n_labels)\n",
        "\n",
        "n_iters = 10000\n",
        "print_every =500\n",
        "plot_every = 5\n",
        "all_losses = []\n",
        "total_loss = 0 # Reset every plot_every iters\n",
        "\n",
        "start = time.time()\n",
        "\n",
        "for iter in range(1, n_iters + 1):\n",
        "    X,Y,index = randomTrainingPair()\n",
        "    # print(index)\n",
        "    # print(Y.shape)\n",
        "    output, loss = training(X,Y)\n",
        "    total_loss += loss\n",
        "    if iter % print_every == 0:\n",
        "        print('%s (%d %d%%) %.4f' % (timeSince(start), iter, iter / n_iters * 100, loss))\n",
        "\n",
        "    if iter % plot_every == 0:\n",
        "        all_losses.append(total_loss / plot_every)\n",
        "        total_loss = 0"
      ],
      "execution_count": 215,
      "outputs": [
        {
          "output_type": "stream",
          "text": [
            "0m 36s (500 5%) 1.1002\n",
            "1m 13s (1000 10%) 0.7448\n",
            "1m 48s (1500 15%) 3.2552\n",
            "2m 22s (2000 20%) 0.6252\n",
            "2m 58s (2500 25%) 0.4524\n",
            "3m 34s (3000 30%) 0.3339\n",
            "4m 8s (3500 35%) 0.4362\n",
            "4m 41s (4000 40%) 1.1015\n",
            "5m 13s (4500 45%) 0.6207\n",
            "5m 48s (5000 50%) 0.2468\n",
            "6m 22s (5500 55%) 0.1304\n",
            "6m 55s (6000 60%) 0.5493\n",
            "7m 28s (6500 65%) 0.7759\n",
            "8m 2s (7000 70%) 0.5542\n",
            "8m 37s (7500 75%) 0.3885\n",
            "9m 12s (8000 80%) 0.9463\n",
            "9m 44s (8500 85%) 0.1146\n",
            "10m 19s (9000 90%) 0.4632\n",
            "10m 51s (9500 95%) 0.5706\n",
            "11m 27s (10000 100%) 0.5108\n"
          ],
          "name": "stdout"
        }
      ]
    },
    {
      "cell_type": "code",
      "metadata": {
        "id": "eh2A9tLFCFYD",
        "colab_type": "code",
        "outputId": "31a4bb7c-ec10-4149-9742-ab559dbaa571",
        "colab": {
          "base_uri": "https://localhost:8080/",
          "height": 264
        }
      },
      "source": [
        "import matplotlib.pyplot as plt\n",
        "import matplotlib.ticker as ticker\n",
        "\n",
        "plt.figure()\n",
        "plt.plot(all_losses)\n",
        "plt.show()"
      ],
      "execution_count": 216,
      "outputs": [
        {
          "output_type": "display_data",
          "data": {
            "image/png": "[encoded data removed]",
            "text/plain": [
              "<Figure size 432x288 with 1 Axes>"
            ]
          },
          "metadata": {
            "tags": []
          }
        }
      ]
    },
    {
      "cell_type": "code",
      "metadata": {
        "id": "H8FNJyP_Tt7c",
        "colab_type": "code",
        "colab": {}
      },
      "source": [
        "def evaluate(line_tensor):\n",
        "    hidden = rnn.initHidden()\n",
        "    pred_tensor =  torch.zeros([line_tensor.size()[0], n_labels])\n",
        "    for i in range(line_tensor.size()[0]):\n",
        "        output, hidden = rnn(line_tensor[i], hidden)\n",
        "        pred_tensor[i] = output \n",
        "\n",
        "    return pred_tensor"
      ],
      "execution_count": 0,
      "outputs": []
    },
    {
      "cell_type": "code",
      "metadata": {
        "id": "ghcOp1Sssc4x",
        "colab_type": "code",
        "colab": {}
      },
      "source": [
        "def predict(sample):\n",
        "    x = tensorfromlist(sample,word2index)\n",
        "    predictions_tag,prediction_index = [],torch.zeros(x.size()[0],dtype=torch.int8)\n",
        "    with torch.no_grad():\n",
        "      output_tensor = evaluate(x)      \n",
        "    for i in range(x.shape[0]):\n",
        "        category_index = output_tensor[i].max(0).indices.numpy().tolist()\n",
        "        predictions_tag.append(index2label[category_index])\n",
        "        prediction_index[i] =category_index\n",
        "    return prediction_index\n"
      ],
      "execution_count": 0,
      "outputs": []
    },
    {
      "cell_type": "code",
      "metadata": {
        "id": "NruILfhHXvuF",
        "colab_type": "code",
        "colab": {}
      },
      "source": [
        "def accuracy(X,Y):\n",
        "  correct =0\n",
        "  total = 0\n",
        "  for i,j in zip(X,Y):\n",
        "      total += len(j)\n",
        "      true_label = tensorfromlist(j,label2index)\n",
        "      pred_label = predict(i)\n",
        "      correct += (pred_label == true_label).sum().item()\n",
        "  print('Accuracy of the network in predicting tags: %d %%' % (100 * correct / total))"
      ],
      "execution_count": 0,
      "outputs": []
    },
    {
      "cell_type": "code",
      "metadata": {
        "id": "SP90x-iSa3Ex",
        "colab_type": "code",
        "colab": {
          "base_uri": "https://localhost:8080/",
          "height": 33
        },
        "outputId": "88c62a22-0ce8-407b-f35a-218c56067b4e"
      },
      "source": [
        "accuracy(train,train_label)"
      ],
      "execution_count": 220,
      "outputs": [
        {
          "output_type": "stream",
          "text": [
            "Accuracy of the network in predicting tags: 85 %\n"
          ],
          "name": "stdout"
        }
      ]
    },
    {
      "cell_type": "code",
      "metadata": {
        "id": "awCcduoQbn_r",
        "colab_type": "code",
        "colab": {
          "base_uri": "https://localhost:8080/",
          "height": 33
        },
        "outputId": "16d165e3-7fbb-4df3-cf3f-2444d912df70"
      },
      "source": [
        "accuracy(test,test_label)"
      ],
      "execution_count": 221,
      "outputs": [
        {
          "output_type": "stream",
          "text": [
            "Accuracy of the network in predicting tags: 86 %\n"
          ],
          "name": "stdout"
        }
      ]
    },
    {
      "cell_type": "code",
      "metadata": {
        "id": "r6VqecUxf0AP",
        "colab_type": "code",
        "colab": {
          "base_uri": "https://localhost:8080/",
          "height": 33
        },
        "outputId": "a6b54532-2627-44dc-9f9d-c7123611e508"
      },
      "source": [
        "accuracy(valid,valid_label)"
      ],
      "execution_count": 222,
      "outputs": [
        {
          "output_type": "stream",
          "text": [
            "Accuracy of the network in predicting tags: 85 %\n"
          ],
          "name": "stdout"
        }
      ]
    },
    {
      "cell_type": "code",
      "metadata": {
        "id": "WSNRcJ2Ef7E5",
        "colab_type": "code",
        "colab": {}
      },
      "source": [
        ""
      ],
      "execution_count": 0,
      "outputs": []
    }
  ]
}